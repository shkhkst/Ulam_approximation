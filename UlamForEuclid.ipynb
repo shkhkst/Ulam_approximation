{
 "cells": [
  {
   "cell_type": "code",
   "execution_count": 1,
   "metadata": {},
   "outputs": [],
   "source": [
    "import numpy as np\n",
    "import matplotlib.pyplot as plt\n",
    "import pylab\n",
    "from tqdm import tqdm\n",
    "import math"
   ]
  },
  {
   "cell_type": "code",
   "execution_count": 2,
   "metadata": {},
   "outputs": [],
   "source": [
    "def process_algo1(int_1, int_2, int_j_1, int_j_2, P_raw, error_matrix, i, j, partition_n, nu):\n",
    "    X_breaks = np.linspace(int_1, int_2,  partition_n + 1)\n",
    "    for k in range(partition_n):\n",
    "        a = X_breaks[k]\n",
    "        b = X_breaks[k + 1]\n",
    "        int_T_1 = min(T(a), T(b))\n",
    "        int_T_2 = max(T(a), T(b))\n",
    "        \n",
    "        if int_T_1 > int_j_1 and int_T_2 < int_j_2:\n",
    "            ### T(I_{i, k}) in I_j\n",
    "            P_raw[i][j] += (b - a) / (max(int_j_1, int_j_2) - min(int_j_1, int_j_2)) # not sure about division\n",
    "        elif int_T_1 > int_j_2 or int_T_2 < int_j_1:\n",
    "            ### T(I_{i, k}) in I_j^C\n",
    "            pass\n",
    "        else:\n",
    "            if b - a > nu:\n",
    "                ### interval intersectrs both I_j and I_j^C and is bigger than nu\n",
    "                process_algo1(a, b, int_j_1, int_j_2, P_raw, error_matrix, i, j, partition_n, nu)\n",
    "            else:\n",
    "                ### interval intersectrs both I_j and I_j^C and is smaller than nu\n",
    "                error_matrix[i][j] += (b - a) / (max(int_j_1, int_j_2) - min(int_j_1, int_j_2)) # not sure about division\n",
    "    \n",
    "def process_algo2(int_1, int_2, int_j_1, int_j_2, P_raw, error_matrix, i, j, partition_n, monotone_partition_n, nu):\n",
    "    X_breaks = np.linspace(int_1, int_2,  partition_n + 1)\n",
    "    for k in range(partition_n):\n",
    "        a = X_breaks[k]\n",
    "        b = X_breaks[k + 1]\n",
    "        \n",
    "        direction = T(b) - T(a)\n",
    "        I_breaks = np.linspace(a, b, monotone_partition_n + 1)\n",
    "        is_monotone = True\n",
    "        \n",
    "        for t in range(monotone_partition_n):\n",
    "            if np.sign(T(I_breaks[t+1]) - T(I_breaks[t])) != np.sign(T(b) - T(a)):\n",
    "                is_monotone = False\n",
    "                break   \n",
    "        \n",
    "        if k > 0:\n",
    "            if np.sign(T(X_breaks[k]) - T(X_breaks[k-1])) != np.sign(T(X_breaks[k+1]) - T(X_breaks[k])):\n",
    "                is_monotone = False\n",
    "        \n",
    "        if is_monotone:\n",
    "            ### applying monotone algo1 for subinterval\n",
    "            process_algo1(a, b, int_j_1, int_j_2, P_raw, error_matrix, i, j, partition_n, nu)\n",
    "        else:\n",
    "            if b - a > nu:\n",
    "                ### interval is bigger than nu, iterating\n",
    "                process_algo2(a, b, int_j_1, int_j_2, P_raw, error_matrix, i, j, partition_n, monotone_partition_n, nu)\n",
    "            else:\n",
    "                ### interval is smaller than nu, increasing error\n",
    "                error_matrix[i][j] += (b - a) / (max(int_j_1, int_j_2) - min(int_j_1, int_j_2)) # not sure about division\n",
    "    \n",
    "    \n",
    "def get_P_raw(partition_n=1000, monotone_partition_n=10, nu=0.001):\n",
    "    \n",
    "    print('Running algorithm for partition_n = {}'.format(partition_n))\n",
    "    \n",
    "    P_raw = np.zeros((partition_n, partition_n))\n",
    "    error_matrix = np.zeros((partition_n, partition_n))\n",
    "    X_breaks = np.linspace(0, 1, partition_n + 1)\n",
    "    \n",
    "    ### iterating by intervals in partition of X (X = [0, 1])\n",
    "    \n",
    "    for i in tqdm(range(partition_n)):\n",
    "        \n",
    "        a = X_breaks[i]\n",
    "        b = X_breaks[i + 1]\n",
    "        \n",
    "        ### checking if T(x) is monotone on I\n",
    "        \n",
    "        direction = T(b) - T(a)\n",
    "        I_breaks = np.linspace(a, b, monotone_partition_n + 1)\n",
    "        is_monotone = True\n",
    "        \n",
    "        for j in range(monotone_partition_n):\n",
    "            if np.sign(T(I_breaks[j+1]) - T(I_breaks[j])) != np.sign(T(b) - T(a)):\n",
    "                is_monotone = False\n",
    "                break   \n",
    "        \n",
    "        if i > 0:\n",
    "            if np.sign(T(X_breaks[i]) - T(X_breaks[i-1])) != np.sign(T(X_breaks[i+1]) - T(X_breaks[i])):\n",
    "                is_monotone = False\n",
    "        \n",
    "        if not is_monotone:\n",
    "            print('T(x) has discontinuity on interval ({}, {})'.format(a, b))\n",
    "            \n",
    "        ### iterating by intervals in partition to calculate P_raw(i, j)    \n",
    "            \n",
    "        for j in range(partition_n):\n",
    "            int_j_1 = X_breaks[j]\n",
    "            int_j_2 = X_breaks[j + 1]\n",
    "            if is_monotone:\n",
    "                ### using algorithm 1 for monotone case\n",
    "                process_algo1(a, b, int_j_1, int_j_2, P_raw, error_matrix, i, j, partition_n, nu)\n",
    "                \n",
    "            else:\n",
    "                ### using algorithm 2 for non-monotone case\n",
    "                process_algo2(a, b, int_j_1, int_j_2, P_raw, error_matrix, i, j, partition_n, monotone_partition_n, nu)\n",
    "                \n",
    "    print(P_raw)\n",
    "    print(error_matrix)\n",
    "    return P_raw, error_matrix\n",
    "   "
   ]
  },
  {
   "cell_type": "code",
   "execution_count": 4,
   "metadata": {},
   "outputs": [],
   "source": [
    "def T(x): \n",
    "    ### Lanford map (squared)\n",
    "#     x = (2 * x + 0.5 * x * (1 - x)) % 1\n",
    "#     return (2 * x + 0.5 * x * (1 - x)) % 1\n",
    "#     ### Manneville-Pomeau map\n",
    "#     return (x + x ** 1.125) % 1\n",
    "    ### not Markov map\n",
    "#     return (3.4 * x) % 1\n",
    "    ### Euclid\n",
    "    if (x == 0): \n",
    "        return 0.5\n",
    "    if (x == 1):\n",
    "        return 0.5\n",
    "    if (x >= 0.5):\n",
    "        a = x\n",
    "        b = 1 - x\n",
    "        a = a % b\n",
    "        return a / (a + b)\n",
    "    else:\n",
    "        a = x\n",
    "        b = 1 - x\n",
    "        b = b % a\n",
    "        return a / (a + b)"
   ]
  },
  {
   "cell_type": "code",
   "execution_count": 6,
   "metadata": {},
   "outputs": [
    {
     "name": "stderr",
     "output_type": "stream",
     "text": [
      "100%|██████████| 51/51 [00:00<00:00, 153120.62it/s]\n"
     ]
    },
    {
     "data": {
      "image/png": "[encoded data removed]",
      "text/plain": [
       "<Figure size 432x288 with 1 Axes>"
      ]
     },
     "metadata": {
      "needs_background": "light"
     },
     "output_type": "display_data"
    }
   ],
   "source": [
    "partition_n=50\n",
    "x_points = np.linspace(0, 1, partition_n + 1)\n",
    "res = []\n",
    "for i in tqdm(range(len(x_points))):\n",
    "    res.append((T(x_points[i])))\n",
    "    \n",
    "plt.plot(x_points, res,  label=\"Euclid algorithm\")\n",
    "plt.grid()\n",
    "plt.legend(loc='best')\n",
    "plt.savefig(\"./Euclid.png\")"
   ]
  },
  {
   "cell_type": "code",
   "execution_count": null,
   "metadata": {
    "scrolled": true
   },
   "outputs": [
    {
     "name": "stderr",
     "output_type": "stream",
     "text": [
      "\r",
      "  0%|          | 0/50 [00:00<?, ?it/s]"
     ]
    },
    {
     "name": "stdout",
     "output_type": "stream",
     "text": [
      "Running algorithm for partition_n = 50\n",
      "T(x) has discontinuity on interval (0.0, 0.02)\n"
     ]
    }
   ],
   "source": [
    "P_raw, error_matrix = get_P_raw(partition_n=partition_n, nu=0.000001)"
   ]
  },
  {
   "cell_type": "code",
   "execution_count": null,
   "metadata": {},
   "outputs": [],
   "source": [
    "pylab.imshow((P_raw))\n",
    "pylab.show()"
   ]
  },
  {
   "cell_type": "code",
   "execution_count": null,
   "metadata": {},
   "outputs": [],
   "source": [
    "pylab.imshow((error_matrix))\n",
    "pylab.show()"
   ]
  },
  {
   "cell_type": "code",
   "execution_count": null,
   "metadata": {},
   "outputs": [],
   "source": [
    "error_matrix"
   ]
  },
  {
   "cell_type": "code",
   "execution_count": null,
   "metadata": {},
   "outputs": [],
   "source": []
  },
  {
   "cell_type": "code",
   "execution_count": null,
   "metadata": {},
   "outputs": [],
   "source": [
    "P_stoch = (P_raw.T / np.sum(P_raw, axis=1)).T"
   ]
  },
  {
   "cell_type": "code",
   "execution_count": null,
   "metadata": {},
   "outputs": [],
   "source": [
    "pylab.imshow((P_stoch))\n",
    "pylab.show()"
   ]
  },
  {
   "cell_type": "code",
   "execution_count": null,
   "metadata": {},
   "outputs": [],
   "source": [
    "np.sum(P_stoch, axis=1)"
   ]
  },
  {
   "cell_type": "code",
   "execution_count": null,
   "metadata": {},
   "outputs": [],
   "source": [
    "epsilon = np.max(error_matrix)\n",
    "nnz = np.sum(np.where(P_raw > 0, 1, 0), axis=1)\n",
    "NNZ = np.max(nnz)\n",
    "total_max_error = NNZ * epsilon * 2\n",
    "epsilon, nnz, total_max_error, NNZ, NNZ * epsilon * 2"
   ]
  },
  {
   "cell_type": "code",
   "execution_count": null,
   "metadata": {},
   "outputs": [],
   "source": [
    "### Now we have to compute N_e\n",
    "basis = np.diag(np.ones(partition_n))\n",
    "zero_basis = []\n",
    "for i in range(1, partition_n):\n",
    "    zero_basis.append(basis[0] - basis[i])\n",
    "zero_basis = np.array(zero_basis)    \n",
    "e_num = 0.0001\n",
    "d = 1.0\n",
    "N_e = 0\n",
    "while d > e_num:\n",
    "    for i in range(1, partition_n):\n",
    "        zero_basis[i-1] = np.dot(zero_basis[i-1], P_stoch)\n",
    "#     print(zero_basis)\n",
    "    d = 2 * np.max(np.sum(np.abs(zero_basis), axis=1))\n",
    "    N_e += 1    \n",
    "    print(N_e, d)  "
   ]
  },
  {
   "cell_type": "code",
   "execution_count": null,
   "metadata": {},
   "outputs": [],
   "source": [
    "### Now we have markov chain approximating our system, so we need to calculate its's steady state\n",
    "iterates = N_e\n",
    "b0 = np.ones(P_stoch.shape[0])\n",
    "for i in range(iterates):\n",
    "#     print(b0)\n",
    "    b0 = np.dot(b0, P_stoch)\n",
    "true_m = []\n",
    "for x in x_points[:-1]:\n",
    "    true_m.append(measure(x))\n",
    "true_m = np.array(true_m)\n",
    "plt.ylim(0, np.max(b0) * 1.05)\n",
    "# plt.plot(x_points[:-1], true_m,  label=\"Invariant measure\", c='red')\n",
    "plt.plot(x_points[:-1], b0,  label=\"Invariant measure approximation\")\n",
    "plt.grid()\n",
    "plt.legend(loc='best')\n",
    "plt.savefig(\"./Euclid_invariant.png\")"
   ]
  }
 ],
 "metadata": {
  "kernelspec": {
   "display_name": "Python 3",
   "language": "python",
   "name": "python3"
  },
  "language_info": {
   "codemirror_mode": {
    "name": "ipython",
    "version": 3
   },
   "file_extension": ".py",
   "mimetype": "text/x-python",
   "name": "python",
   "nbconvert_exporter": "python",
   "pygments_lexer": "ipython3",
   "version": "3.8.3"
  }
 },
 "nbformat": 4,
 "nbformat_minor": 4
}
