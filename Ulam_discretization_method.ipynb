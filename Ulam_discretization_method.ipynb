{
 "cells": [
  {
   "cell_type": "code",
   "execution_count": 11,
   "metadata": {},
   "outputs": [],
   "source": [
    "import numpy as np\n",
    "import matplotlib.pyplot as plt\n",
    "import pylab\n",
    "from tqdm import tqdm"
   ]
  },
  {
   "cell_type": "code",
   "execution_count": 12,
   "metadata": {},
   "outputs": [],
   "source": [
    "def process_algo1(int_1, int_2, int_j_1, int_j_2, P_raw, error_matrix, i, j, partition_n, nu):\n",
    "    X_breaks = np.linspace(int_1, int_2,  partition_n + 1)\n",
    "    for k in range(partition_n):\n",
    "        a = X_breaks[k]\n",
    "        b = X_breaks[k + 1]\n",
    "        int_T_1 = min(T(a), T(b))\n",
    "        int_T_2 = max(T(a), T(b))\n",
    "        \n",
    "        if int_T_1 > int_j_1 and int_T_2 < int_j_2:\n",
    "            ### T(I_{i, k}) in I_j\n",
    "            P_raw[i][j] += (b - a) / (max(int_j_1, int_j_2) - min(int_j_1, int_j_2)) # not sure about division\n",
    "        elif int_T_1 > int_j_2 or int_T_2 < int_j_1:\n",
    "            ### T(I_{i, k}) in I_j^C\n",
    "            pass\n",
    "        else:\n",
    "            if b - a > nu:\n",
    "                ### interval intersectrs both I_j and I_j^C and is bigger than nu\n",
    "                process_algo1(a, b, int_j_1, int_j_2, P_raw, error_matrix, i, j, partition_n, nu)\n",
    "            else:\n",
    "                ### interval intersectrs both I_j and I_j^C and is smaller than nu\n",
    "                error_matrix[i][j] += (b - a) / (max(int_j_1, int_j_2) - min(int_j_1, int_j_2)) # not sure about division\n",
    "    \n",
    "def process_algo2(int_1, int_2, int_j_1, int_j_2, P_raw, error_matrix, i, j, partition_n, monotone_partition_n, nu):\n",
    "    X_breaks = np.linspace(int_1, int_2,  partition_n + 1)\n",
    "    for k in range(partition_n):\n",
    "        a = X_breaks[k]\n",
    "        b = X_breaks[k + 1]\n",
    "        \n",
    "        direction = T(b) - T(a)\n",
    "        I_breaks = np.linspace(a, b, monotone_partition_n + 1)\n",
    "        is_monotone = True\n",
    "        \n",
    "        for t in range(monotone_partition_n):\n",
    "            if np.sign(T(I_breaks[t+1]) - T(I_breaks[t])) != np.sign(T(b) - T(a)):\n",
    "                is_monotone = False\n",
    "                break   \n",
    "        \n",
    "        if k > 0:\n",
    "            if np.sign(T(X_breaks[k]) - T(X_breaks[k-1])) != np.sign(T(X_breaks[k+1]) - T(X_breaks[k])):\n",
    "                is_monotone = False\n",
    "        \n",
    "        if is_monotone:\n",
    "            ### applying monotone algo1 for subinterval\n",
    "            process_algo1(a, b, int_j_1, int_j_2, P_raw, error_matrix, i, j, partition_n, nu)\n",
    "        else:\n",
    "            if b - a > nu:\n",
    "                ### interval is bigger than nu, iterating\n",
    "                process_algo2(a, b, int_j_1, int_j_2, P_raw, error_matrix, i, j, partition_n, monotone_partition_n, nu)\n",
    "            else:\n",
    "                ### interval is smaller than nu, increasing error\n",
    "                error_matrix[i][j] += (b - a) / (max(int_j_1, int_j_2) - min(int_j_1, int_j_2)) # not sure about division\n",
    "    \n",
    "    \n",
    "def get_P_raw(partition_n=1000, monotone_partition_n=10, nu=0.001):\n",
    "    \n",
    "    print('Running algorithm for partition_n = {}'.format(partition_n))\n",
    "    \n",
    "    P_raw = np.zeros((partition_n, partition_n))\n",
    "    error_matrix = np.zeros((partition_n, partition_n))\n",
    "    X_breaks = np.linspace(0, 1, partition_n + 1)\n",
    "    \n",
    "    ### iterating by intervals in partition of X (X = [0, 1])\n",
    "    \n",
    "    for i in tqdm(range(partition_n)):\n",
    "        \n",
    "        a = X_breaks[i]\n",
    "        b = X_breaks[i + 1]\n",
    "        \n",
    "        ### checking if T(x) is monotone on I\n",
    "        \n",
    "        direction = T(b) - T(a)\n",
    "        I_breaks = np.linspace(a, b, monotone_partition_n + 1)\n",
    "        is_monotone = True\n",
    "        \n",
    "        for j in range(monotone_partition_n):\n",
    "            if np.sign(T(I_breaks[j+1]) - T(I_breaks[j])) != np.sign(T(b) - T(a)):\n",
    "                is_monotone = False\n",
    "                break   \n",
    "        \n",
    "        if i > 0:\n",
    "            if np.sign(T(X_breaks[i]) - T(X_breaks[i-1])) != np.sign(T(X_breaks[i+1]) - T(X_breaks[i])):\n",
    "                is_monotone = False\n",
    "        \n",
    "        if not is_monotone:\n",
    "            print('T(x) has discontinuity on interval ({}, {})'.format(a, b))\n",
    "            \n",
    "        ### iterating by intervals in partition to calculate P_raw(i, j)    \n",
    "            \n",
    "        for j in range(partition_n):\n",
    "            int_j_1 = X_breaks[j]\n",
    "            int_j_2 = X_breaks[j + 1]\n",
    "            if is_monotone:\n",
    "                ### using algorithm 1 for monotone case\n",
    "                process_algo1(a, b, int_j_1, int_j_2, P_raw, error_matrix, i, j, partition_n, nu)\n",
    "                \n",
    "            else:\n",
    "                ### using algorithm 2 for non-monotone case\n",
    "                process_algo2(a, b, int_j_1, int_j_2, P_raw, error_matrix, i, j, partition_n, monotone_partition_n, nu)\n",
    "                \n",
    "    print(P_raw)\n",
    "    print(error_matrix)\n",
    "    return P_raw, error_matrix\n",
    "   "
   ]
  },
  {
   "cell_type": "code",
   "execution_count": 16,
   "metadata": {},
   "outputs": [],
   "source": [
    "def T(x): \n",
    "    ### Lanford map (squared)\n",
    "#     x = (2 * x + 0.5 * x * (1 - x)) % 1\n",
    "    return (2 * x + 0.5 * x * (1 - x)) % 1\n",
    "#     ### Manneville-Pomeau map\n",
    "#     return (x + x ** 1.125) % 1\n",
    "    ### not Markov map\n",
    "#     return (3.4 * x) % 1"
   ]
  },
  {
   "cell_type": "code",
   "execution_count": 17,
   "metadata": {},
   "outputs": [
    {
     "data": {
      "image/png": "[encoded data removed]",
      "text/plain": [
       "<Figure size 432x288 with 1 Axes>"
      ]
     },
     "metadata": {
      "needs_background": "light"
     },
     "output_type": "display_data"
    }
   ],
   "source": [
    "partition_n=300;\n",
    "x_points = np.linspace(0, 1, partition_n + 1)\n",
    "res = []\n",
    "for i in range(len(x_points)):\n",
    "    res.append(T(x_points[i]))\n",
    "    \n",
    "plt.plot(x_points, res,  label=\"Lanford map\")\n",
    "plt.grid()\n",
    "plt.legend(loc='best')\n",
    "plt.savefig(\"./Lanford.png\")"
   ]
  },
  {
   "cell_type": "code",
   "execution_count": 18,
   "metadata": {},
   "outputs": [
    {
     "name": "stderr",
     "output_type": "stream",
     "text": [
      "\r",
      "  0%|          | 0/300 [00:00<?, ?it/s]"
     ]
    },
    {
     "name": "stdout",
     "output_type": "stream",
     "text": [
      "Running algorithm for partition_n = 300\n"
     ]
    },
    {
     "name": "stderr",
     "output_type": "stream",
     "text": [
      " 44%|████▎     | 131/300 [00:48<01:01,  2.73it/s]"
     ]
    },
    {
     "name": "stdout",
     "output_type": "stream",
     "text": [
      "T(x) has discontinuity on interval (0.4366666666666667, 0.44)\n"
     ]
    },
    {
     "name": "stderr",
     "output_type": "stream",
     "text": [
      "\r",
      " 44%|████▍     | 132/300 [02:44<1:38:49, 35.29s/it]"
     ]
    },
    {
     "name": "stdout",
     "output_type": "stream",
     "text": [
      "T(x) has discontinuity on interval (0.44, 0.44333333333333336)\n"
     ]
    },
    {
     "name": "stderr",
     "output_type": "stream",
     "text": [
      "100%|█████████▉| 299/300 [05:44<00:00,  2.72it/s]  "
     ]
    },
    {
     "name": "stdout",
     "output_type": "stream",
     "text": [
      "T(x) has discontinuity on interval (0.9966666666666667, 1.0)\n"
     ]
    },
    {
     "name": "stderr",
     "output_type": "stream",
     "text": [
      "100%|██████████| 300/300 [07:42<00:00,  1.54s/it]"
     ]
    },
    {
     "name": "stdout",
     "output_type": "stream",
     "text": [
      "[[0.39666667 0.39666667 0.19666667 ... 0.         0.         0.        ]\n",
      " [0.         0.         0.2        ... 0.         0.         0.        ]\n",
      " [0.         0.         0.         ... 0.         0.         0.        ]\n",
      " ...\n",
      " [0.         0.         0.         ... 0.         0.         0.        ]\n",
      " [0.         0.         0.         ... 0.66       0.33       0.        ]\n",
      " [0.         0.         0.         ... 0.         0.33382222 0.66283333]]\n",
      "[[0.00666667 0.00666667 0.00333333 ... 0.         0.         0.        ]\n",
      " [0.         0.         0.00333333 ... 0.         0.         0.        ]\n",
      " [0.         0.         0.         ... 0.         0.         0.        ]\n",
      " ...\n",
      " [0.         0.         0.         ... 0.         0.         0.        ]\n",
      " [0.         0.         0.         ... 0.00666667 0.00333333 0.        ]\n",
      " [0.00333333 0.00333333 0.00333333 ... 0.00333333 0.00334444 0.00334444]]\n"
     ]
    },
    {
     "name": "stderr",
     "output_type": "stream",
     "text": [
      "\n"
     ]
    }
   ],
   "source": [
    "P_raw, error_matrix = get_P_raw(partition_n=partition_n)"
   ]
  },
  {
   "cell_type": "code",
   "execution_count": 19,
   "metadata": {},
   "outputs": [],
   "source": [
    "P_stoch = (P_raw.T / np.sum(P_raw, axis=1)).T"
   ]
  },
  {
   "cell_type": "code",
   "execution_count": 20,
   "metadata": {},
   "outputs": [
    {
     "data": {
      "image/png": "[encoded data removed]",
      "text/plain": [
       "<Figure size 432x288 with 1 Axes>"
      ]
     },
     "metadata": {
      "needs_background": "light"
     },
     "output_type": "display_data"
    }
   ],
   "source": [
    "pylab.imshow((P_stoch))\n",
    "pylab.show()"
   ]
  },
  {
   "cell_type": "code",
   "execution_count": 21,
   "metadata": {},
   "outputs": [
    {
     "data": {
      "text/plain": [
       "(0.006677777777758311,\n",
       " array([3, 3, 3, 3, 4, 3, 4, 3, 4, 3, 4, 3, 4, 3, 4, 3, 4, 3, 3, 4, 3, 4,\n",
       "        3, 4, 3, 3, 4, 3, 4, 3, 3, 4, 3, 4, 3, 3, 4, 3, 3, 4, 3, 4, 3, 3,\n",
       "        4, 3, 3, 4, 3, 3, 4, 3, 3, 4, 3, 3, 4, 3, 3, 3, 3, 3, 3, 4, 3, 3,\n",
       "        4, 3, 3, 3, 4, 3, 3, 3, 4, 3, 3, 3, 4, 3, 3, 3, 4, 3, 3, 3, 3, 4,\n",
       "        3, 3, 3, 3, 4, 3, 3, 3, 3, 3, 3, 3, 3, 3, 3, 3, 4, 3, 3, 3, 3, 3,\n",
       "        3, 4, 3, 3, 3, 3, 3, 3, 3, 3, 3, 3, 3, 3, 3, 3, 3, 3, 3, 3, 3, 3,\n",
       "        4, 3, 3, 3, 3, 3, 3, 3, 3, 3, 3, 3, 3, 3, 3, 3, 3, 3, 3, 3, 3, 3,\n",
       "        3, 3, 3, 3, 3, 3, 3, 3, 3, 3, 3, 3, 3, 2, 3, 3, 3, 3, 3, 3, 3, 3,\n",
       "        3, 3, 3, 2, 2, 3, 3, 3, 3, 3, 3, 3, 2, 3, 3, 3, 3, 3, 3, 2, 3, 3,\n",
       "        3, 3, 3, 2, 3, 3, 3, 3, 3, 2, 3, 3, 3, 3, 2, 3, 3, 3, 3, 2, 3, 3,\n",
       "        3, 2, 3, 3, 3, 2, 3, 3, 3, 2, 3, 3, 3, 2, 3, 3, 2, 3, 3, 2, 2, 3,\n",
       "        3, 2, 3, 3, 2, 3, 3, 2, 3, 3, 2, 3, 3, 2, 3, 3, 2, 3, 2, 3, 3, 2,\n",
       "        3, 3, 2, 3, 2, 3, 3, 2, 3, 2, 3, 3, 2, 3, 2, 3, 2, 3, 3, 2, 3, 2,\n",
       "        3, 2, 3, 2, 3, 2, 3, 2, 3, 2, 3, 2, 3, 2]),\n",
       " 0.05342222222206649,\n",
       " 4)"
      ]
     },
     "execution_count": 21,
     "metadata": {},
     "output_type": "execute_result"
    }
   ],
   "source": [
    "epsilon = np.max(error_matrix)\n",
    "nnz = np.sum(np.where(P_raw > 0, 1, 0), axis=1)\n",
    "NNZ = np.max(nnz)\n",
    "total_max_error = NNZ * epsilon * 2\n",
    "epsilon, nnz, total_max_error, NNZ"
   ]
  },
  {
   "cell_type": "code",
   "execution_count": 22,
   "metadata": {},
   "outputs": [
    {
     "name": "stdout",
     "output_type": "stream",
     "text": [
      "29\n"
     ]
    }
   ],
   "source": [
    "### Now we have to compute N_e\n",
    "basis = np.diag(np.ones(partition_n))\n",
    "zero_basis = []\n",
    "for i in range(1, partition_n):\n",
    "    zero_basis.append(basis[0] - basis[i])\n",
    "zero_basis = np.array(zero_basis)    \n",
    "e_num = 0.0001\n",
    "d = 1.0\n",
    "N_e = 0\n",
    "while d > e_num:\n",
    "    for i in range(1, partition_n):\n",
    "        zero_basis[i-1] = np.dot(zero_basis[i-1], P_stoch)\n",
    "    d = 2 * np.max(np.sum(np.abs(zero_basis), axis=1))\n",
    "    N_e += 1    \n",
    "print(N_e)  "
   ]
  },
  {
   "cell_type": "code",
   "execution_count": 23,
   "metadata": {},
   "outputs": [
    {
     "data": {
      "image/png": "[encoded data removed]",
      "text/plain": [
       "<Figure size 432x288 with 1 Axes>"
      ]
     },
     "metadata": {
      "needs_background": "light"
     },
     "output_type": "display_data"
    }
   ],
   "source": [
    "### Now we have markov chain approximating our system, so we need to calculate its's steady state\n",
    "iterates = N_e\n",
    "b0 = np.ones(P_stoch.shape[0])\n",
    "for i in range(iterates):\n",
    "    b0 = np.dot(b0, P_stoch)\n",
    "\n",
    "plt.ylim(0, np.max(b0) * 1.05)\n",
    "plt.plot(x_points[:-1], b0,  label=\"Invariant measure approximation\")\n",
    "plt.grid()\n",
    "plt.legend(loc='best')\n",
    "plt.savefig(\"./Lanford_map_invariant.png\")"
   ]
  },
  {
   "cell_type": "code",
   "execution_count": null,
   "metadata": {},
   "outputs": [],
   "source": []
  }
 ],
 "metadata": {
  "kernelspec": {
   "display_name": "Python 3",
   "language": "python",
   "name": "python3"
  },
  "language_info": {
   "codemirror_mode": {
    "name": "ipython",
    "version": 3
   },
   "file_extension": ".py",
   "mimetype": "text/x-python",
   "name": "python",
   "nbconvert_exporter": "python",
   "pygments_lexer": "ipython3",
   "version": "3.8.3"
  }
 },
 "nbformat": 4,
 "nbformat_minor": 4
}
